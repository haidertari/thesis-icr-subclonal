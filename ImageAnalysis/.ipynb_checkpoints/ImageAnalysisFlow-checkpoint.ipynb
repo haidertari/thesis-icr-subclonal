{
 "cells": [
  {
   "cell_type": "code",
   "execution_count": null,
   "metadata": {},
   "outputs": [],
   "source": [
    "import cv2 as cv2\n",
    "import numpy as np\n",
    "import matplotlib.pyplot as plt\n",
    "import glob as glob\n",
    "import os as os\n",
    "import shutil as shutil\n",
    "import scipy.signal as sig\n",
    "\n",
    "import torch\n",
    "import torch.nn as nn\n",
    "import torch.nn.functional as F\n",
    "from ResNetUNet import ResNetUNet\n",
    "from segmentTiles_mod import segmentTiles\n",
    "\n",
    "import matlab.engine"
   ]
  },
  {
   "cell_type": "markdown",
   "metadata": {},
   "source": [
    "Paths for classifier and project"
   ]
  },
  {
   "cell_type": "code",
   "execution_count": null,
   "metadata": {},
   "outputs": [],
   "source": [
    "basepath = ''\n",
    "phaseclassifierpath = \"\"\n",
    "greenclassifierpath = \"\" \n",
    "redclassifierpath = ''"
   ]
  },
  {
   "cell_type": "markdown",
   "metadata": {},
   "source": [
    "Function to create file structure"
   ]
  },
  {
   "cell_type": "code",
   "execution_count": null,
   "metadata": {},
   "outputs": [],
   "source": [
    "def makedir(path):\n",
    "    if not os.path.exists(path):\n",
    "        os.mkdir(path)"
   ]
  },
  {
   "cell_type": "code",
   "execution_count": null,
   "metadata": {},
   "outputs": [],
   "source": [
    "makedir(os.path.join(basepath,'Stage1')) #stage1 should aready exist from import\n",
    "makedir(os.path.join(basepath,'Stage2'))\n",
    "makedir(os.path.join(basepath,'Stage3'))\n",
    "makedir(os.path.join(basepath,'Stage2/PhaseMasks/'))\n",
    "makedir(os.path.join(basepath,'Stage2/GreenMasks/'))\n",
    "makedir(os.path.join(basepath,'Stage2/RedMasks/'))\n",
    "makedir(os.path.join(basepath,'Stage3/Unregistered/'))\n",
    "makedir(os.path.join(basepath,'Stage3/Filtered/'))\n",
    "makedir(os.path.join(basepath,'Stage3/Registered/'))\n",
    "makedir(os.path.join(basepath,'Stage3/Registered/GRU/'))\n",
    "makedir(os.path.join(basepath,'Stage3/Registered/PH/'))\n",
    "makedir(os.path.join(basepath,'Stage3/Registered/GM/'))\n",
    "makedir(os.path.join(basepath,'Stage3/Registered/PM/'))\n",
    "makedir(os.path.join(basepath,'Stage3/Registered/RDU/'))\n",
    "makedir(os.path.join(basepath,'Stage3/Registered/RM/'))\n"
   ]
  },
  {
   "cell_type": "code",
   "execution_count": null,
   "metadata": {
    "scrolled": true
   },
   "outputs": [],
   "source": [
    "#MATCH GREEN IMAGES TO PHASE\n",
    "files = glob.glob(os.path.join(basepath,\"Stage1\",\"PH\",\"*.tif\"))\n",
    "SAVEDIR = os.path.join(basepath,'Stage1',\"RGRU\")\n",
    "makedir(SAVEDIR)\n",
    "for i in range(len(files)):\n",
    "    filename = os.path.join(basepath,\"Raw\",\"RGRU\",\"GRU\"+os.path.basename(files[i])[2:])\n",
    "    shutil.copyfile(filename,os.path.join(SAVEDIR,os.path.basename(filename)))"
   ]
  },
  {
   "cell_type": "code",
   "execution_count": null,
   "metadata": {},
   "outputs": [],
   "source": [
    "#MATCH RED IMAGES TO PHASE\n",
    "files = glob.glob(os.path.join(basepath,\"Stage1\",\"PH\",\"*.tif\"))\n",
    "SAVEDIR = os.path.join(basepath,'Stage1',\"RDU\")\n",
    "makedir(SAVEDIR)\n",
    "for i in range(len(files)):\n",
    "    filename = os.path.join(basepath,\"Raw\",\"RRDU\",\"RDU\"+os.path.basename(files[i])[2:])\n",
    "    shutil.copyfile(filename,os.path.join(SAVEDIR,os.path.basename(filename)))"
   ]
  },
  {
   "cell_type": "code",
   "execution_count": null,
   "metadata": {},
   "outputs": [],
   "source": [
    "def normaliseimages(img):\n",
    "    clahe = cv2.createCLAHE(clipLimit=16.0,tileGridSize=(16,16))\n",
    "    clahe_img = clahe.apply(img)\n",
    "    nrm = cv2.convertScaleAbs(clahe_img,alpha=(255.0/np.amax(clahe_img)))\n",
    "    nrm = 255*((nrm - np.quantile(nrm,0.05))/np.quantile(nrm,0.95))\n",
    "    nrm[nrm > 255] = 255\n",
    "    nrm[nrm < 0] = 0\n",
    "    nrm = nrm.astype(np.uint8)\n",
    "    return nrm"
   ]
  },
  {
   "cell_type": "code",
   "execution_count": null,
   "metadata": {
    "scrolled": true
   },
   "outputs": [],
   "source": [
    "#GREEN NORMALISATION\n",
    "#take the images from stage 1 folder and create normalised channels\n",
    "\n",
    "#path of files and save location\n",
    "source = os.path.join(basepath,'Stage1/RGRU/')\n",
    "dest = os.path.join(os.path.join(basepath,'Stage1/GRU/'))\n",
    "\n",
    "#if the destination doesn't exist create it\n",
    "if not os.path.exists(dest):\n",
    "    os.mkdir(dest)\n",
    "\n",
    "#get file paths\n",
    "files = glob.glob(source+'/*tif')\n",
    "\n",
    "for i in range(len(files)):\n",
    "    print(i)\n",
    "    img = cv2.imread(files[i],cv2.IMREAD_UNCHANGED)\n",
    "    img = normaliseimages(img)\n",
    "    filename = os.path.join(dest,os.path.basename(files[i]))\n",
    "    cv2.imwrite(filename,img)"
   ]
  },
  {
   "cell_type": "code",
   "execution_count": null,
   "metadata": {},
   "outputs": [],
   "source": [
    "#RED NORMALISATION\n",
    "\n",
    "#path of files and save location\n",
    "source = os.path.join(basepath,'Stage1','RRDU')\n",
    "dest = os.path.join(os.path.join(basepath,'Stage1','RDU'))\n",
    "\n",
    "#if the destination doesn't exist create it\n",
    "if not os.path.exists(dest):\n",
    "    os.mkdir(dest)\n",
    "\n",
    "#get file paths\n",
    "files = glob.glob(source+'/*tif')\n",
    "\n",
    "for i in range(len(files)):\n",
    "    img = cv2.imread(files[i],cv2.IMREAD_UNCHANGED)\n",
    "    img = normaliseimages(img)\n",
    "    filename = os.path.join(dest,os.path.basename(files[i]))\n",
    "    cv2.imwrite(filename,img)"
   ]
  },
  {
   "cell_type": "markdown",
   "metadata": {},
   "source": [
    "Segmentation (uncomment based on what is needed)"
   ]
  },
  {
   "cell_type": "code",
   "execution_count": null,
   "metadata": {
    "scrolled": true
   },
   "outputs": [],
   "source": [
    "#SEGMENTATION\n",
    "\n",
    "#greenclassifierpath = \"/mnt/haider/Storage/CompleteImageAnalysis/TrainingDirectory/Classifiers/DIPG007/1909-DIPG007GrModel1/DIPG7-inv_modelGr1.h5\"\n",
    "#Segment on phase channel\n",
    "#tile_path = os.path.join(basepath,'Stage1/GRU')\n",
    "#out_path = os.path.join(basepath,'Stage2/GreenMasks/Raw')\n",
    "#if not os.path.exists(out_path):\n",
    "#    os.mkdir(out_path)\n",
    "#segmentTiles(tile_path,greenclassifierpath,out_path)\n",
    "\n",
    "#Segment on phase channel\n",
    "#tile_path = os.path.join(basepath,'Stage1/RDU')\n",
    "#out_path = os.path.join(basepath,'Stage2/RedMasks/Raw')\n",
    "#if not os.path.exists(out_path):\n",
    "#    os.mkdir(out_path)\n",
    "#segmentTiles(tile_path,greenclassifierpath,out_path)\n",
    "\n",
    "#Segment on green channel\n",
    "#tile_path = os.path.join(basepath,'Stage1/PH')\n",
    "#out_path = os.path.join(basepath,'Stage2/PhaseMasks/Raw')\n",
    "#if not os.path.exists(out_path):\n",
    "#    os.mkdir(out_path)\n",
    "#segmentTiles(tile_path,phaseclassifierpath,out_path)"
   ]
  },
  {
   "cell_type": "markdown",
   "metadata": {},
   "source": [
    "Filter raw masks to create binary masks"
   ]
  },
  {
   "cell_type": "code",
   "execution_count": null,
   "metadata": {},
   "outputs": [],
   "source": [
    "def filtermasks(img):\n",
    "    img[img>(255*0.5)] = 255\n",
    "    img[img<(255*0.5)] = 0\n",
    "    return img"
   ]
  },
  {
   "cell_type": "code",
   "execution_count": null,
   "metadata": {},
   "outputs": [],
   "source": [
    "#PHASE MASK PROCESS\n",
    "\n",
    "#Post process masks and create outline files\n",
    "source = os.path.join(basepath,'Stage2/PhaseMasks/Raw/')\n",
    "destination = os.path.join(basepath,'Stage3/Unregistered/PM/')\n",
    "if not os.path.exists(destination):\n",
    "    os.mkdir(destination)\n",
    "\n",
    "files = glob.glob(source+'*tif')\n",
    "for i in range(len(files)):\n",
    "    img = cv2.imread(files[i],cv2.IMREAD_UNCHANGED)\n",
    "    img = filtermasks(img)\n",
    "    filename = os.path.join(destination,os.path.basename(files[i]))\n",
    "    cv2.imwrite(filename,img)"
   ]
  },
  {
   "cell_type": "code",
   "execution_count": null,
   "metadata": {},
   "outputs": [],
   "source": [
    "#GREEN MASK PROCESS\n",
    "\n",
    "#Post process masks and create outline files\n",
    "source = os.path.join(basepath,'Stage2/GreenMasks/Raw/')\n",
    "destination = os.path.join(basepath,'Stage3/Unregistered/GM/')\n",
    "if not os.path.exists(destination):\n",
    "    os.mkdir(destination)\n",
    "\n",
    "files = glob.glob(source+'*tif')\n",
    "\n",
    "for i in range(len(files)):\n",
    "    img = cv2.imread(files[i],cv2.IMREAD_UNCHANGED)\n",
    "    img = filtermasks(img)\n",
    "    filename = os.path.join(destination,os.path.basename(files[i]))\n",
    "    cv2.imwrite(filename,img)"
   ]
  },
  {
   "cell_type": "code",
   "execution_count": null,
   "metadata": {},
   "outputs": [],
   "source": [
    "#RED MASK PROCESS\n",
    "\n",
    "#Post process masks and create outline files\n",
    "source = os.path.join(basepath,'Stage2/RedMasks/Raw/')\n",
    "destination = os.path.join(basepath,'Stage3/Unregistered/RM/')\n",
    "if not os.path.exists(destination):\n",
    "    os.mkdir(destination)\n",
    "\n",
    "files = glob.glob(source+'*tif')\n",
    "\n",
    "for i in range(len(files)):\n",
    "    img = cv2.imread(files[i],cv2.IMREAD_UNCHANGED)\n",
    "    img = filtermasks(img)\n",
    "    filename = os.path.join(destination,os.path.basename(files[i]))\n",
    "    cv2.imwrite(filename,img)"
   ]
  },
  {
   "cell_type": "code",
   "execution_count": null,
   "metadata": {},
   "outputs": [],
   "source": [
    "#Copy images to new location\n",
    "source = os.path.join(basepath,\"Stage1\",\"PH\")\n",
    "dest = os.path.join(basepath,\"Stage3\",\"Unregistered\",\"PH\")\n",
    "if not os.path.exists(dest):\n",
    "    os.mkdir(dest)\n",
    "    \n",
    "files = glob.glob(source+'/*tif')\n",
    "\n",
    "for i in range(len(files)):\n",
    "    print(i)\n",
    "    copyfilepath = files[i]\n",
    "    destfilepath = os.path.join(dest,os.path.basename(files[i]))\n",
    "    shutil.copyfile(copyfilepath,destfilepath)\n",
    "    \n",
    "source = os.path.join(basepath,\"Stage1\",\"GRU\")\n",
    "dest = os.path.join(basepath,\"Stage3\",\"Unregistered\",\"GRU\")\n",
    "if not os.path.exists(dest):\n",
    "    os.mkdir(dest)\n",
    "\n",
    "files = glob.glob(source+'/*tif')\n",
    "\n",
    "for i in range(len(files)):\n",
    "    copyfilepath = files[i]\n",
    "    destfilepath = os.path.join(dest,os.path.basename(files[i]))\n",
    "    shutil.copyfile(copyfilepath,destfilepath)\n",
    "    \n",
    "source = os.path.join(basepath,\"Stage1\",\"RDU\")\n",
    "dest = os.path.join(basepath,\"Stage3\",\"Unregistered\",\"RDU\")\n",
    "if not os.path.exists(dest):\n",
    "    os.mkdir(dest)\n",
    "\n",
    "files = glob.glob(source+'/*tif')\n",
    "\n",
    "for i in range(len(files)):\n",
    "    copyfilepath = files[i]\n",
    "    destfilepath = os.path.join(dest,os.path.basename(files[i]))\n",
    "    shutil.copyfile(copyfilepath,destfilepath)"
   ]
  },
  {
   "cell_type": "code",
   "execution_count": null,
   "metadata": {},
   "outputs": [],
   "source": [
    "#sort into folders\n",
    "def sortfiles(cdir):\n",
    "    destdir = os.path.join(cdir)\n",
    "    #create dest dir\n",
    "    if not os.path.exists(destdir):\n",
    "            os.mkdir(destdir)\n",
    "    imgfiles = glob.glob(cdir+'/*.tif')\n",
    "    for i in range(len(imgfiles)):\n",
    "        #filename\n",
    "        filename = os.path.basename(imgfiles[i])\n",
    "        fullfilename = imgfiles[i]\n",
    "        #create subfolder\n",
    "        foldername = os.path.basename(imgfiles[i]).split('_')[1]\n",
    "        path = os.path.join(destdir,foldername)\n",
    "        if not os.path.exists(path):\n",
    "            os.mkdir(path)\n",
    "        #copy image to subfolder\n",
    "        destpath = os.path.join(path,filename)\n",
    "        os.rename(fullfilename,os.path.join(path,filename))"
   ]
  },
  {
   "cell_type": "markdown",
   "metadata": {},
   "source": [
    "Image registration"
   ]
  },
  {
   "cell_type": "code",
   "execution_count": null,
   "metadata": {},
   "outputs": [],
   "source": [
    "#sort unregistered\n",
    "folders = glob.glob(os.path.join(basepath,\"Stage3\",\"Unregistered\",\"*\"))\n",
    "for i in folders:\n",
    "    sortfiles(i)"
   ]
  },
  {
   "cell_type": "code",
   "execution_count": null,
   "metadata": {},
   "outputs": [],
   "source": [
    "#run matlab script to register images\n",
    "eng = matlab.engine.start_matlab()\n",
    "path = os.path.join(basepath,'Stage3')\n",
    "print(path)\n",
    "print(\"Starting MATLAB image registration\")\n",
    "#register when all files are present and all channels\n",
    "eng.registerimages(path,nargout=0)\n",
    "#register when only some are present\n",
    "#eng.someimages(path,nargout=0)\n",
    "\n",
    "\n",
    "print(\"Image registration complete\")\n",
    "eng.quit()"
   ]
  },
  {
   "cell_type": "markdown",
   "metadata": {},
   "source": [
    "If phase masks exist used these to filter other masks (uncomment or comment out based on what is required)"
   ]
  },
  {
   "cell_type": "code",
   "execution_count": null,
   "metadata": {},
   "outputs": [],
   "source": [
    "def filternoise(a,b):\n",
    "    a[a > 0] = 1\n",
    "    b[b > 0] = 1\n",
    "    c = np.multiply(a,b)\n",
    "    c[c > 0] = 255\n",
    "    return c"
   ]
  },
  {
   "cell_type": "code",
   "execution_count": null,
   "metadata": {},
   "outputs": [],
   "source": [
    "#TAKE GREEN MASK AND FILTER FOR NOISE\n",
    "greenfolder = os.path.join(basepath,'Stage3','Registered','GM')\n",
    "redfolder = os.path.join(basepath,'Stage3','Registered','RM')\n",
    "phasefolder = os.path.join(basepath,'Stage3','Registered','PM')\n",
    "newphasefolder = os.path.join(basepath,'Stage3','Filtered','PM')\n",
    "if not os.path.exists(newphasefolder):\n",
    "    os.mkdir(newphasefolder)\n",
    "newgreenfolder = os.path.join(basepath,'Stage3','Filtered','GM')\n",
    "if not os.path.exists(newgreenfolder):\n",
    "    os.mkdir(newgreenfolder)\n",
    "newredfolder = os.path.join(basepath,'Stage3','Filtered','RM')\n",
    "if not os.path.exists(newgreenfolder):\n",
    "    os.mkdir(newredfolder)\n",
    "phfiles = glob.glob(phasefolder+'/*tif')\n",
    "\n",
    "for i in range(len(phfiles)):\n",
    "    shutil.copyfile(phfiles[i],os.path.join(newphasefolder,os.path.basename(phfiles[i])))\n",
    "    \n",
    "    #load the phase mask\n",
    "    pimg = cv2.imread(phfiles[i],cv2.IMREAD_UNCHANGED)\n",
    "    \n",
    "    #load the green mask\n",
    "    greenfile = os.path.join(greenfolder,'GRU'+(os.path.basename((phfiles[i]))[2:]))\n",
    "    gimg = cv2.imread(greenfile,cv2.IMREAD_UNCHANGED)\n",
    "    #load the green mask\n",
    "    redfile = os.path.join(redfolder,'RDU'+(os.path.basename((phfiles[i]))[2:]))\n",
    "    rimg = cv2.imread(redfile,cv2.IMREAD_UNCHANGED)\n",
    "    \n",
    "    #apply the phase mask to the green mask\n",
    "    gimg = filternoise(gimg,pimg)\n",
    "    rimg = filternoise(rimg,pimg)\n",
    "\n",
    "    #save the green filtered file to the filtered foder\n",
    "    savegreen = os.path.join(newgreenfolder,os.path.basename(greenfile))    \n",
    "    cv2.imwrite(savegreen,gimg)\n",
    "    "
   ]
  },
  {
   "cell_type": "code",
   "execution_count": null,
   "metadata": {
    "scrolled": true
   },
   "outputs": [],
   "source": [
    "#Applying file sorting\n",
    "path = os.path.join(basepath,\"Stage3\",\"Filtered\")\n",
    "folders = glob.glob(path+\"/*\")\n",
    "for i in folders:\n",
    "    sortfiles(i)\n"
   ]
  },
  {
   "cell_type": "code",
   "execution_count": null,
   "metadata": {},
   "outputs": [],
   "source": [
    "#produce outlines\n",
    "#run matlab script to register images\n",
    "outlinedir = os.path.join(basepath,\"Stage3\",\"Outline\")\n",
    "if not os.path.exists(outlinedir):\n",
    "    os.mkdir(outlinedir)\n",
    "outlinedir = os.path.join(basepath,\"Stage3\",\"Outline\",\"PH\")\n",
    "if not os.path.exists(outlinedir):\n",
    "    os.mkdir(outlinedir)\n",
    "outlinedir = os.path.join(basepath,\"Stage3\",\"Outline\",\"GRU\")\n",
    "if not os.path.exists(outlinedir):\n",
    "    os.mkdir(outlinedir)\n",
    "    \n",
    "    \n",
    "\n",
    "eng = matlab.engine.start_matlab()\n",
    "path = os.path.join(basepath)\n",
    "print(path)\n",
    "print(\"Starting MATLAB outline generation\")\n",
    "eng.outlinegenerate(path,nargout=0)\n",
    "print(\"Outline generation complete\")\n",
    "eng.quit()"
   ]
  },
  {
   "cell_type": "code",
   "execution_count": null,
   "metadata": {},
   "outputs": [],
   "source": [
    "#Applying file sorting\n",
    "path = os.path.join(basepath,\"Stage3\",\"Outline\")\n",
    "folders = glob.glob(path+\"/*\")\n",
    "for i in folders:\n",
    "    sortfiles(i)"
   ]
  }
 ],
 "metadata": {
  "kernelspec": {
   "display_name": "Python 3",
   "language": "python",
   "name": "python3"
  },
  "language_info": {
   "codemirror_mode": {
    "name": "ipython",
    "version": 3
   },
   "file_extension": ".py",
   "mimetype": "text/x-python",
   "name": "python",
   "nbconvert_exporter": "python",
   "pygments_lexer": "ipython3",
   "version": "3.7.0"
  }
 },
 "nbformat": 4,
 "nbformat_minor": 2
}
