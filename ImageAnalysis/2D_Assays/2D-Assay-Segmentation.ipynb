{
 "cells": [
  {
   "cell_type": "code",
   "execution_count": null,
   "metadata": {},
   "outputs": [],
   "source": [
    "import cv2 as cv2\n",
    "import numpy as np\n",
    "import matplotlib.pyplot as plt\n",
    "import glob as glob\n",
    "import os as os\n",
    "import shutil as shutil\n",
    "import scipy.signal as sig\n",
    "from pandas.core.common import flatten\n",
    "\n"
   ]
  },
  {
   "cell_type": "code",
   "execution_count": null,
   "metadata": {},
   "outputs": [],
   "source": [
    "assay = \"Assay\"\n",
    "expname = \"210719-Coculture-Drugs\"\n",
    "basepath = os.path.join(assay,expname)"
   ]
  },
  {
   "cell_type": "code",
   "execution_count": null,
   "metadata": {},
   "outputs": [],
   "source": [
    "def makedir(path):\n",
    "    if not os.path.exists(path):\n",
    "        os.mkdir(path)"
   ]
  },
  {
   "cell_type": "code",
   "execution_count": null,
   "metadata": {},
   "outputs": [],
   "source": [
    "makedir(os.path.join(basepath,\"MasksGRU\"))\n",
    "makedir(os.path.join(basepath,\"MasksRDU\"))\n",
    "makedir(os.path.join(basepath,\"OverlayGRU\"))\n",
    "makedir(os.path.join(basepath,\"OverlayRDU\"))\n",
    "makedir(os.path.join(basepath,\"GRU\"))\n",
    "makedir(os.path.join(basepath,\"RDU\"))"
   ]
  },
  {
   "cell_type": "code",
   "execution_count": null,
   "metadata": {},
   "outputs": [],
   "source": [
    "times = ['*00h*','*12h*']"
   ]
  },
  {
   "cell_type": "code",
   "execution_count": null,
   "metadata": {
    "scrolled": true
   },
   "outputs": [],
   "source": [
    "def normaliseimagesgreen(img):\n",
    "    clahe = cv2.createCLAHE(clipLimit=20.0,tileGridSize=(5,5))\n",
    "    clahe_img = clahe.apply(img)\n",
    "    clahe_img = clahe_img.astype(np.int32)\n",
    "    print(np.quantile(clahe_img,0.99))\n",
    "\n",
    "    clahe_img = ((clahe_img - 2000))\n",
    "    clahe_img[clahe_img<0] = 0\n",
    "    if np.amax(clahe_img) < 2500:\n",
    "        nrm = cv2.convertScaleAbs(clahe_img,alpha=(255.0/10000))\n",
    "    else:\n",
    "        nrm = cv2.convertScaleAbs(clahe_img,alpha=(255.0/(min(np.quantile(clahe_img,0.995),50000))))#was 5000\n",
    "    nrm[nrm>255]=255\n",
    "    nrm[nrm<0]=0\n",
    "    nrm = nrm.astype(np.uint8)\n",
    "    return nrm\n",
    "\n",
    "\n",
    "source = os.path.join(basepath,'RGRU')\n",
    "dest = os.path.join(basepath,'GRU')\n",
    "files = list(flatten([sorted(glob.glob(os.path.join(source,e))) for e in times]))\n",
    "q1 = np.zeros(len(files))\n",
    "q2 = np.zeros(len(files))\n",
    "\n",
    "\n",
    "for i in range(len(files)):\n",
    "    \n",
    "    img = cv2.imread(files[i],cv2.IMREAD_UNCHANGED)\n",
    "    q1[i]= np.amax(img)\n",
    "    q2[i] = np.amin(img)\n",
    "    img = normaliseimagesgreen(img)\n",
    "    filename = os.path.join(dest,os.path.basename(files[i]))\n",
    "    cv2.imwrite(filename,img)\n",
    "    print(os.path.basename(files[i]))\n"
   ]
  },
  {
   "cell_type": "code",
   "execution_count": null,
   "metadata": {
    "scrolled": true
   },
   "outputs": [],
   "source": [
    "def normaliseimagesred(img,q1,i):\n",
    "    \n",
    "    clahe = cv2.createCLAHE(clipLimit=10.0,tileGridSize=(5,5))\n",
    "    clahe_img = clahe.apply(img).astype(np.int32)\n",
    "    \n",
    "    q1[i] = (np.quantile(clahe_img,0.995))\n",
    "    if np.quantile(clahe_img,0.995) < 50:\n",
    "        nrm = cv2.convertScaleAbs(clahe_img,alpha=(255.0/1000))\n",
    "        print(\"low\")\n",
    "    else:\n",
    "        \n",
    "        nrm = cv2.convertScaleAbs(clahe_img,alpha=(255.0/np.quantile(clahe_img,0.995)))\n",
    "        #nrm = 255*(clahe_img-np.amin(clahe_img))/(np.quantile(clahe_img,0.995)-np.amin(clahe_img))\n",
    "        \n",
    "        \n",
    "    nrm[nrm<0] = 0\n",
    "    nrm[nrm>255] = 255\n",
    "    \n",
    "    nrm = nrm.astype(np.uint8)\n",
    "    return nrm\n",
    "\n",
    "\n",
    "source = os.path.join(basepath,'RRDU')\n",
    "dest = os.path.join(basepath,'RDU')\n",
    "files = list(flatten([sorted(glob.glob(os.path.join(source,e))) for e in times]))\n",
    "q1 = np.zeros(len(files))\n",
    "\n",
    "for i in range(len(files)):\n",
    "             \n",
    "    img = cv2.medianBlur(cv2.imread(files[i],cv2.IMREAD_UNCHANGED),3)\n",
    "    img = normaliseimagesred(img,q1,i)\n",
    "    filename = os.path.join(dest,os.path.basename(files[i]))\n",
    "    cv2.imwrite(filename,img)\n",
    "    print(os.path.basename(files[i]))"
   ]
  },
  {
   "cell_type": "code",
   "execution_count": null,
   "metadata": {},
   "outputs": [],
   "source": [
    "#Run this only if the images are not adequately normalised\n",
    "\n",
    "source = os.path.join(basepath,'RDU')\n",
    "dest = os.path.join(basepath,'RDU')\n",
    "files = list(flatten([sorted(glob.glob(os.path.join(source,e))) for e in times]))\n",
    "q1 = np.zeros(len(files))\n",
    "q2 = np.zeros(len(files))\n",
    "\n",
    "for i in range(len(files)):\n",
    "    img = cv2.imread(files[i],0)\n",
    "    filename = os.path.join(dest,os.path.basename(files[i]))\n",
    "    cv2.imwrite(filename,img)\n",
    "    print(q1[i],q2[i],os.path.basename(files[i]))\n",
    "\n",
    "    \n",
    "source = os.path.join(basepath,'GRU')\n",
    "dest = os.path.join(basepath,'GRU')\n",
    "files = list(flatten([sorted(glob.glob(os.path.join(source,e))) for e in times]))\n",
    "q1 = np.zeros(len(files))\n",
    "q2 = np.zeros(len(files))\n",
    "\n",
    "for i in range(len(files)):\n",
    "    \n",
    "    img = cv2.imread(files[i],cv2.IMREAD_UNCHANGED)\n",
    "    img = img.astype(np.int16)\n",
    "    \n",
    "    q1[i] = np.quantile(img,0.01)\n",
    "    q2[i] = np.quantile(img,1)\n",
    "    if np.quantile(img,0.99) < 40:\n",
    "        img = ((img)/(255))*255\n",
    "        img[img<0]=0\n",
    "        img[img>255]=255\n",
    "        img = img.astype(np.uint8)\n",
    "        print(\"empty\")\n",
    "    else:\n",
    "        img = ((img-np.quantile(img,0.01))/(np.quantile(img,1)-np.quantile(img,0.01)))*255\n",
    "        img[img<0]=0\n",
    "        img[img>255]=255\n",
    "        img = img.astype(np.uint8)\n",
    "\n",
    "           \n",
    "    \n",
    "    filename = os.path.join(dest,os.path.basename(files[i]))\n",
    "    cv2.imwrite(filename,img)"
   ]
  },
  {
   "cell_type": "code",
   "execution_count": null,
   "metadata": {},
   "outputs": [],
   "source": [
    "def RemoveSmallObjects(img_file,min_size):\n",
    "\n",
    "    nb_components, output, stats, _ = cv2.connectedComponentsWithStats(img_file, connectivity=4)\n",
    "    sizes = stats[1:, -1]\n",
    "    nb_components = nb_components - 1\n",
    "    out = np.zeros((output.shape)).astype(np.uint8)\n",
    "    for i in range(0, nb_components):\n",
    "        if sizes[i] >= min_size:\n",
    "            out[output == i + 1] = 255\n",
    "    return out"
   ]
  },
  {
   "cell_type": "code",
   "execution_count": null,
   "metadata": {
    "scrolled": true
   },
   "outputs": [],
   "source": [
    "#files2 = sorted(glob.glob(os.path.join(basepath,'RDU','*B*')))\n",
    "\n",
    "files1 = sorted(glob.glob(os.path.join(os.path.join(basepath,'GRU3'),'*')))\n",
    "files2 = sorted(glob.glob(os.path.join(os.path.join(basepath,'RDU3'),'*')))\n",
    "\n",
    "#files2 = list(flatten([sorted(glob.glob(os.path.join(basepath,'RDU',e))) for e in times]))\n",
    "\n",
    "for i in range(len(files2)):\n",
    "    print(files2[i])\n",
    "    if(os.path.isfile(os.path.join(basepath,'GRU3','GRU'+os.path.basename(files2[i])[3:]))):\n",
    "        gimg = cv2.imread(os.path.join(basepath,'GRU3','GRU'+os.path.basename(files2[i])[3:]),0).astype(np.uint8)\n",
    "        rimg = cv2.imread(files2[i],0).astype(np.uint8)\n",
    "\n",
    "        _,red = cv2.threshold(rimg, 40,254,cv2.THRESH_BINARY) #was 25 210707\n",
    "        _,green = cv2.threshold(gimg, 60,254,cv2.THRESH_BINARY)\n",
    "\n",
    "        red = RemoveSmallObjects(red,30)\n",
    "        green = RemoveSmallObjects(green,30)\n",
    "\n",
    "        redwrite = np.zeros((red.shape)).astype(np.uint8)\n",
    "        greenwrite = np.zeros((green.shape)).astype(np.uint8)\n",
    "\n",
    "        redwrite[np.logical_and(red > 0,green > 0) ] = 127\n",
    "        redwrite[np.logical_and(red > 0,green == 0) ] = 254\n",
    "        greenwrite[np.logical_and(red > 0,green > 0) ] = 127\n",
    "        greenwrite[np.logical_and(red == 0,green > 0) ] = 254\n",
    "        stackr = cv2.merge([red,rimg,rimg])\n",
    "        stackg = cv2.merge([green,gimg,gimg])\n",
    "\n",
    "        cv2.imwrite(os.path.join(basepath,'OverlayRDU3',os.path.basename(files2[i])),stackr)\n",
    "        cv2.imwrite(os.path.join(basepath,'OverlayGRU3','GRU'+os.path.basename(files2[i])[3:]),stackg)\n",
    "        cv2.imwrite(os.path.join(basepath,'MasksRDU3',os.path.basename(files2[i])),redwrite)\n",
    "        cv2.imwrite(os.path.join(basepath,'MasksGRU3','GRU'+os.path.basename(files2[i])[3:]),greenwrite)\n",
    "\n",
    "    \n",
    "            \n",
    "    \n",
    "    "
   ]
  },
  {
   "cell_type": "code",
   "execution_count": null,
   "metadata": {
    "scrolled": false
   },
   "outputs": [],
   "source": [
    "files1 = sorted(glob.glob(os.path.join(os.path.join(basepath,'MasksGRU'),\"*tif\")))\n",
    "files2 = sorted(glob.glob(os.path.join(os.path.join(basepath,'MasksRDU'),\"*tif\")))\n",
    "\n",
    "\n",
    "outfile = open(os.path.join(basepath,expname+\"FINAL\"+'.csv'),\"w+\")\n",
    "writethis = \"Letter,Number,Plate,Day,Hour,Minute,Green,Red\\n\"\n",
    "outfile.write(writethis)\n",
    "for i in range(len(files1)):\n",
    "    print(i)\n",
    "    img = cv2.imread(files1[i],0).astype(np.uint8)\n",
    "    \n",
    "    img2 = cv2.imread(files2[i],0).astype(np.uint8)\n",
    "\n",
    "    q = (os.path.join(files1[i])).split('_')\n",
    "    writethis = str(q[2][0])+\",\"+str(q[2][1:])+\",\"+str(q[1])+\",\"+str(q[4][0:2])+\",\"+str(q[4][3:5])+\",\"+str(q[4][6:8])+\",\"+str(np.sum(img[100:1052,100:1436]/254))+\",\"+str(np.sum(img2[100:1052,100:1436]/254))+\"\\n\"\n",
    "    outfile.write(writethis)\n",
    "outfile.flush()"
   ]
  }
 ],
 "metadata": {
  "kernelspec": {
   "display_name": "Python 3 (ipykernel)",
   "language": "python",
   "name": "python3"
  },
  "language_info": {
   "codemirror_mode": {
    "name": "ipython",
    "version": 3
   },
   "file_extension": ".py",
   "mimetype": "text/x-python",
   "name": "python",
   "nbconvert_exporter": "python",
   "pygments_lexer": "ipython3",
   "version": "3.9.7"
  }
 },
 "nbformat": 4,
 "nbformat_minor": 4
}
